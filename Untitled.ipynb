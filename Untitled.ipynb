{
 "cells": [
  {
   "cell_type": "code",
   "execution_count": 5,
   "id": "8f19809a-8b16-4d82-b2ce-ac71777ec7ca",
   "metadata": {},
   "outputs": [
    {
     "name": "stdout",
     "output_type": "stream",
     "text": [
      "  File \"run.py\", line 78\n",
      "    prot_encoder,\n",
      "    ^\n",
      "SyntaxError: positional argument follows keyword argument\n"
     ]
    }
   ],
   "source": [
    "!python run.py -c config/BindingDB_prot-545_lambda-learnable.yaml"
   ]
  },
  {
   "cell_type": "code",
   "execution_count": 3,
   "id": "3ab7d1fb-d6d4-4a59-8fab-e63757153ab0",
   "metadata": {},
   "outputs": [
    {
     "name": "stdout",
     "output_type": "stream",
     "text": [
      "W&B offline. Running your script from this directory will only write metadata locally. Use wandb disabled to completely turn off W&B.\n"
     ]
    }
   ],
   "source": [
    "!wandb off"
   ]
  },
  {
   "cell_type": "code",
   "execution_count": 9,
   "id": "32694dd2-d154-45c4-8f2d-889f4123dec6",
   "metadata": {},
   "outputs": [
    {
     "name": "stdout",
     "output_type": "stream",
     "text": [
      "/home/ming/miniconda3/envs/taohong/lib/python3.8/site-packages/torchvision/io/image.py:13: UserWarning: Failed to load image Python extension: libtorch_cuda_cu.so: cannot open shared object file: No such file or directory\n",
      "  warn(f\"Failed to load image Python extension: {e}\")\n",
      "\u001b[34m\u001b[1mwandb\u001b[0m: \u001b[33mWARNING\u001b[0m `resume` will be ignored since W&B syncing is set to `offline`. Starting a new run with run id nta4p4ly.\n",
      "\u001b[34m\u001b[1mwandb\u001b[0m: Tracking run with wandb version 0.15.7\n",
      "\u001b[34m\u001b[1mwandb\u001b[0m: W&B syncing is set to \u001b[1m`offline`\u001b[0m in this directory.  \n",
      "\u001b[34m\u001b[1mwandb\u001b[0m: Run \u001b[1m`wandb online`\u001b[0m or set \u001b[1mWANDB_MODE=online\u001b[0m to enable cloud syncing.\n",
      "\n",
      "Project name: Dataset-BindingDB_ProtT-545_ProtS-545_Lambda-learnable\n",
      "\n",
      "Load Dataset: BindingDB\n",
      "Load Prot teacher's features; Prot Length 545\n",
      "/home/ming/miniconda3/envs/taohong/lib/python3.8/site-packages/huggingface_hub/file_download.py:1150: FutureWarning: `resume_download` is deprecated and will be removed in version 1.0.0. Downloads always resume when possible. If you want to force a new download, use `force_download=True`.\n",
      "  warnings.warn(\n",
      "The tokenizer class you load from this checkpoint is not the same type as the class this function is called from. It may result in unexpected tokenization. \n",
      "The tokenizer class you load from this checkpoint is 'EsmTokenizer'. \n",
      "The class this function is called from is 'BertTokenizer'.\n",
      "Special tokens have been added in the vocabulary, make sure the associated word embeddings are fine-tuned or trained.\n",
      "Traceback (most recent call last):\n",
      "  File \"run.py\", line 62, in <module>\n",
      "    train_dataset = DTIDataset(\n",
      "  File \"/media/ming/Data/taohong/DLM-DTI_one_hot/utils/data.py\", line 49, in __init__\n",
      "    self.vocab = self._build_vocab()\n",
      "  File \"/media/ming/Data/taohong/DLM-DTI_one_hot/utils/data.py\", line 58, in _build_vocab\n",
      "    tokens.update(self._tokenize_smiles(smi))\n",
      "  File \"/media/ming/Data/taohong/DLM-DTI_one_hot/utils/data.py\", line 69, in _tokenize_smiles\n",
      "    return re.findall(pattern, smiles)\n",
      "NameError: name 're' is not defined\n",
      "\u001b[34m\u001b[1mwandb\u001b[0m: Waiting for W&B process to finish... \u001b[31m(failed 1).\u001b[0m\n",
      "\u001b[34m\u001b[1mwandb\u001b[0m: You can sync this run to the cloud by running:\n",
      "\u001b[34m\u001b[1mwandb\u001b[0m: \u001b[1mwandb sync ./wandb/offline-run-20250428_181211-nta4p4ly\u001b[0m\n",
      "\u001b[34m\u001b[1mwandb\u001b[0m: Find logs at: \u001b[35m\u001b[1m./wandb/offline-run-20250428_181211-nta4p4ly/logs\u001b[0m\n"
     ]
    }
   ],
   "source": [
    "!python run.py -c config/BindingDB_prot-545_lambda-learnable.yaml"
   ]
  },
  {
   "cell_type": "code",
   "execution_count": null,
   "id": "f3e70a97-e7dc-48f7-be33-0249f7f9111b",
   "metadata": {},
   "outputs": [],
   "source": []
  }
 ],
 "metadata": {
  "kernelspec": {
   "display_name": "taohong",
   "language": "python",
   "name": "taohong"
  },
  "language_info": {
   "codemirror_mode": {
    "name": "ipython",
    "version": 3
   },
   "file_extension": ".py",
   "mimetype": "text/x-python",
   "name": "python",
   "nbconvert_exporter": "python",
   "pygments_lexer": "ipython3",
   "version": "3.9.21"
  }
 },
 "nbformat": 4,
 "nbformat_minor": 5
}
